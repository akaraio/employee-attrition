{
 "cells": [
  {
   "cell_type": "code",
   "execution_count": null,
   "metadata": {
    "executionInfo": {
     "elapsed": 4053,
     "status": "ok",
     "timestamp": 1733434782838,
     "user": {
      "displayName": "akara",
      "userId": "03294495074658875410"
     },
     "user_tz": -120
    },
    "id": "uWSW8TsPO5pg"
   },
   "outputs": [],
   "source": [
    "import pandas as pd\n",
    "import numpy as np\n",
    "import matplotlib.pyplot as plt\n",
    "import seaborn as sns\n",
    "\n",
    "from sklearn.model_selection import train_test_split\n",
    "from sklearn.impute import SimpleImputer\n",
    "from sklearn.preprocessing import OneHotEncoder, MinMaxScaler\n",
    "from sklearn.compose import ColumnTransformer\n",
    "from sklearn.pipeline import Pipeline\n",
    "from sklearn.ensemble import RandomForestClassifier\n",
    "\n",
    "from sklearn.metrics import classification_report, confusion_matrix, ConfusionMatrixDisplay\n",
    "from sklearn.model_selection import cross_val_score"
   ]
  },
  {
   "cell_type": "code",
   "execution_count": null,
   "metadata": {
    "id": "5hiN2v5JZWNe"
   },
   "outputs": [],
   "source": [
    "pd.set_option('display.max_columns', None)"
   ]
  },
  {
   "cell_type": "code",
   "execution_count": null,
   "metadata": {
    "colab": {
     "base_uri": "https://localhost:8080/",
     "height": 617
    },
    "executionInfo": {
     "elapsed": 925,
     "status": "ok",
     "timestamp": 1733302776030,
     "user": {
      "displayName": "akara",
      "userId": "03294495074658875410"
     },
     "user_tz": -120
    },
    "id": "kpPEG4__PHDe",
    "outputId": "c4dfd3a9-0122-41fb-e3fb-541544717a0d"
   },
   "outputs": [],
   "source": [
    "df = pd.read_csv('data')\n",
    "df"
   ]
  },
  {
   "cell_type": "code",
   "execution_count": null,
   "metadata": {
    "colab": {
     "base_uri": "https://localhost:8080/"
    },
    "executionInfo": {
     "elapsed": 10,
     "status": "ok",
     "timestamp": 1733302776030,
     "user": {
      "displayName": "akara",
      "userId": "03294495074658875410"
     },
     "user_tz": -120
    },
    "id": "NKJ9I0QsZwPx",
    "outputId": "acbff9e3-f856-4d28-b8a9-6cb296be25a6"
   },
   "outputs": [],
   "source": [
    "df['EmployeeID'].nunique(), df['MaritalStatus'].value_counts(), df['Over18'].value_counts()"
   ]
  },
  {
   "cell_type": "code",
   "execution_count": null,
   "metadata": {
    "colab": {
     "base_uri": "https://localhost:8080/",
     "height": 649
    },
    "executionInfo": {
     "elapsed": 7,
     "status": "ok",
     "timestamp": 1733302776031,
     "user": {
      "displayName": "akara",
      "userId": "03294495074658875410"
     },
     "user_tz": -120
    },
    "id": "2Tjqb7GQ28c3",
    "outputId": "ed22141c-cc61-41d8-fbaf-f044d856ce4f"
   },
   "outputs": [],
   "source": [
    "df = pd.read_csv('data', index_col='EmployeeID')\n",
    "df"
   ]
  },
  {
   "cell_type": "code",
   "execution_count": null,
   "metadata": {
    "colab": {
     "base_uri": "https://localhost:8080/"
    },
    "executionInfo": {
     "elapsed": 9,
     "status": "ok",
     "timestamp": 1733302776301,
     "user": {
      "displayName": "akara",
      "userId": "03294495074658875410"
     },
     "user_tz": -120
    },
    "id": "F-sAOP1nQxJD",
    "outputId": "074dc00c-3896-444f-e511-4fdbe23aaa9d"
   },
   "outputs": [],
   "source": [
    "df.info()"
   ]
  },
  {
   "cell_type": "code",
   "execution_count": null,
   "metadata": {
    "colab": {
     "base_uri": "https://localhost:8080/",
     "height": 520
    },
    "executionInfo": {
     "elapsed": 7,
     "status": "ok",
     "timestamp": 1733302776301,
     "user": {
      "displayName": "akara",
      "userId": "03294495074658875410"
     },
     "user_tz": -120
    },
    "id": "ISgtv7OmSqZf",
    "outputId": "0f19c7ff-47d8-4c5d-cf31-094b29c2973c"
   },
   "outputs": [],
   "source": [
    "df.describe().T"
   ]
  },
  {
   "cell_type": "code",
   "execution_count": null,
   "metadata": {
    "colab": {
     "base_uri": "https://localhost:8080/",
     "height": 805
    },
    "executionInfo": {
     "elapsed": 7,
     "status": "ok",
     "timestamp": 1733302776538,
     "user": {
      "displayName": "akara",
      "userId": "03294495074658875410"
     },
     "user_tz": -120
    },
    "id": "hEEVgJVHRNge",
    "outputId": "af299184-42d7-4e9a-df59-ddbb2380416d"
   },
   "outputs": [],
   "source": [
    "df.isnull().sum().sort_values(ascending=False)"
   ]
  },
  {
   "cell_type": "code",
   "execution_count": null,
   "metadata": {
    "colab": {
     "base_uri": "https://localhost:8080/",
     "height": 853
    },
    "executionInfo": {
     "elapsed": 8445,
     "status": "ok",
     "timestamp": 1733302784978,
     "user": {
      "displayName": "akara",
      "userId": "03294495074658875410"
     },
     "user_tz": -120
    },
    "id": "Mp14IW9mSzTh",
    "outputId": "70781062-ff39-4534-aec5-c919de396744"
   },
   "outputs": [],
   "source": [
    "df.hist(grid=False, bins=20, figsize=(15, 10));"
   ]
  },
  {
   "cell_type": "code",
   "execution_count": null,
   "metadata": {
    "id": "mnqtVAloagwx"
   },
   "outputs": [],
   "source": [
    "df_copy = df.copy()"
   ]
  },
  {
   "cell_type": "code",
   "execution_count": null,
   "metadata": {
    "colab": {
     "base_uri": "https://localhost:8080/",
     "height": 649
    },
    "executionInfo": {
     "elapsed": 11,
     "status": "ok",
     "timestamp": 1733302784978,
     "user": {
      "displayName": "akara",
      "userId": "03294495074658875410"
     },
     "user_tz": -120
    },
    "id": "eczZBpeAUVie",
    "outputId": "a93783e7-4b24-4204-e09d-c709c1ae7926"
   },
   "outputs": [],
   "source": [
    "df_copy['Attrition'] = df_copy['Attrition'].apply(lambda x: 1 if x == 'Yes' else 0)\n",
    "df_copy['Gender'] = df_copy['Gender'].apply(lambda x: 1 if x == 'Female' else 0)\n",
    "\n",
    "marital_status = {'Married':0, 'Single':1, 'Divorced':2}\n",
    "df_copy['MaritalStatus'] = df_copy['MaritalStatus'].apply(lambda x: marital_status[x])\n",
    "\n",
    "df_copy"
   ]
  },
  {
   "cell_type": "code",
   "execution_count": null,
   "metadata": {
    "colab": {
     "base_uri": "https://localhost:8080/",
     "height": 649
    },
    "executionInfo": {
     "elapsed": 290,
     "status": "ok",
     "timestamp": 1733302785259,
     "user": {
      "displayName": "akara",
      "userId": "03294495074658875410"
     },
     "user_tz": -120
    },
    "id": "jaIZbru-UyKQ",
    "outputId": "fdc66495-b441-4b4a-fe3d-8b5cfdf21cee"
   },
   "outputs": [],
   "source": [
    "df_copy = df_copy.drop(['EmployeeCount', 'StandardHours', 'Over18'], axis=1)\n",
    "df_copy"
   ]
  },
  {
   "cell_type": "code",
   "execution_count": null,
   "metadata": {
    "colab": {
     "base_uri": "https://localhost:8080/"
    },
    "executionInfo": {
     "elapsed": 16,
     "status": "ok",
     "timestamp": 1733302785259,
     "user": {
      "displayName": "akara",
      "userId": "03294495074658875410"
     },
     "user_tz": -120
    },
    "id": "CZxINK0Nbj6Z",
    "outputId": "b862fe06-b0df-448c-e058-4f2ce82ba4aa"
   },
   "outputs": [],
   "source": [
    "round(df_copy['Attrition'].value_counts()[1]/len(df_copy), 2)*100"
   ]
  },
  {
   "cell_type": "code",
   "execution_count": null,
   "metadata": {
    "colab": {
     "base_uri": "https://localhost:8080/",
     "height": 551
    },
    "executionInfo": {
     "elapsed": 13,
     "status": "ok",
     "timestamp": 1733302785259,
     "user": {
      "displayName": "akara",
      "userId": "03294495074658875410"
     },
     "user_tz": -120
    },
    "id": "SqKk-FZYcno_",
    "outputId": "209e51ec-80b0-49a9-86d3-7386dbdfc3d4"
   },
   "outputs": [],
   "source": [
    "df_copy[df_copy['Attrition']==0].describe().T"
   ]
  },
  {
   "cell_type": "code",
   "execution_count": null,
   "metadata": {
    "colab": {
     "base_uri": "https://localhost:8080/",
     "height": 551
    },
    "executionInfo": {
     "elapsed": 12,
     "status": "ok",
     "timestamp": 1733302785259,
     "user": {
      "displayName": "akara",
      "userId": "03294495074658875410"
     },
     "user_tz": -120
    },
    "id": "_3qsycQKc1eS",
    "outputId": "0ffff552-f48c-4359-a736-dca28a21e9a0"
   },
   "outputs": [],
   "source": [
    "df_copy[df_copy['Attrition']==1].describe().T"
   ]
  },
  {
   "cell_type": "code",
   "execution_count": null,
   "metadata": {
    "colab": {
     "base_uri": "https://localhost:8080/",
     "height": 1000
    },
    "executionInfo": {
     "elapsed": 4184,
     "status": "ok",
     "timestamp": 1733302789434,
     "user": {
      "displayName": "akara",
      "userId": "03294495074658875410"
     },
     "user_tz": -120
    },
    "id": "2xI2xgPKc2C8",
    "outputId": "7cede7de-b148-40f4-87cd-3ea5ef29c74c"
   },
   "outputs": [],
   "source": [
    "plt.figure(figsize=(16,10))\n",
    "sns.heatmap(df_copy.corr(numeric_only=True), annot = True)"
   ]
  },
  {
   "cell_type": "code",
   "execution_count": null,
   "metadata": {
    "colab": {
     "base_uri": "https://localhost:8080/",
     "height": 756
    },
    "executionInfo": {
     "elapsed": 2424,
     "status": "ok",
     "timestamp": 1733302791853,
     "user": {
      "displayName": "akara",
      "userId": "03294495074658875410"
     },
     "user_tz": -120
    },
    "id": "Hm245boceSbB",
    "outputId": "89ddd958-1d8e-4807-d432-e5b2adb4f664"
   },
   "outputs": [],
   "source": [
    "plt.figure(figsize=[20,10])\n",
    "plt.subplot(2,2,1)\n",
    "plt.xticks(rotation=30, fontsize=8)\n",
    "sns.countplot(x = 'JobRole', hue = 'Attrition', data = df_copy)\n",
    "plt.subplot(2,2,2)\n",
    "sns.countplot(x = 'MaritalStatus', hue = 'Attrition', data = df_copy)\n",
    "plt.subplot(2,2,3)\n",
    "sns.countplot(x = 'Age', hue = 'Attrition', data = df_copy)\n",
    "plt.subplot(2,2,4)\n",
    "sns.countplot(x = 'JobLevel', hue = 'Attrition', data = df_copy)\n",
    "plt.tight_layout()"
   ]
  },
  {
   "cell_type": "code",
   "execution_count": null,
   "metadata": {
    "colab": {
     "base_uri": "https://localhost:8080/",
     "height": 482
    },
    "executionInfo": {
     "elapsed": 412,
     "status": "ok",
     "timestamp": 1733302792259,
     "user": {
      "displayName": "akara",
      "userId": "03294495074658875410"
     },
     "user_tz": -120
    },
    "id": "80SS-32NfzBT",
    "outputId": "6882308f-d514-4539-9933-89d6973e07f8"
   },
   "outputs": [],
   "source": [
    "sns.kdeplot(x='MonthlyIncome', hue = 'Attrition', data=df_copy, fill=True)"
   ]
  },
  {
   "cell_type": "code",
   "execution_count": null,
   "metadata": {
    "colab": {
     "base_uri": "https://localhost:8080/",
     "height": 466
    },
    "executionInfo": {
     "elapsed": 395,
     "status": "ok",
     "timestamp": 1733302792648,
     "user": {
      "displayName": "akara",
      "userId": "03294495074658875410"
     },
     "user_tz": -120
    },
    "id": "i44qxVtFg03P",
    "outputId": "d3832b47-f1fd-4666-c2e0-86d49e36fea5"
   },
   "outputs": [],
   "source": [
    "sns.kdeplot(x='DistanceFromHome', hue = 'Attrition', data=df_copy, fill=True)"
   ]
  },
  {
   "cell_type": "code",
   "execution_count": null,
   "metadata": {
    "id": "WK1TtePohjDQ"
   },
   "outputs": [],
   "source": [
    "X = df_copy.drop('Attrition', axis=1)\n",
    "y = df_copy['Attrition']"
   ]
  },
  {
   "cell_type": "code",
   "execution_count": null,
   "metadata": {
    "id": "-pux-0hHnhUD"
   },
   "outputs": [],
   "source": [
    "num_cols = [col for col in df_copy.columns if pd.api.types.is_numeric_dtype(df_copy[col]) and col != 'Attrition']\n",
    "cat_cols = [col for col in df_copy.columns if col not in num_cols and col != 'Attrition']"
   ]
  },
  {
   "cell_type": "code",
   "execution_count": null,
   "metadata": {
    "colab": {
     "base_uri": "https://localhost:8080/"
    },
    "executionInfo": {
     "elapsed": 16,
     "status": "ok",
     "timestamp": 1733302792649,
     "user": {
      "displayName": "akara",
      "userId": "03294495074658875410"
     },
     "user_tz": -120
    },
    "id": "tjKtUakNoLK7",
    "outputId": "2b2966b8-76a0-4fa3-fa8b-0d5ec47e587f"
   },
   "outputs": [],
   "source": [
    "len(cat_cols), len(num_cols), len(df_copy.columns)"
   ]
  },
  {
   "cell_type": "code",
   "execution_count": null,
   "metadata": {
    "colab": {
     "base_uri": "https://localhost:8080/",
     "height": 210
    },
    "executionInfo": {
     "elapsed": 13,
     "status": "ok",
     "timestamp": 1733302792649,
     "user": {
      "displayName": "akara",
      "userId": "03294495074658875410"
     },
     "user_tz": -120
    },
    "id": "o_fYxhZJo3SI",
    "outputId": "3d2e6097-c176-465b-db61-28621f516254"
   },
   "outputs": [],
   "source": [
    "df_copy[cat_cols].nunique()"
   ]
  },
  {
   "cell_type": "code",
   "execution_count": null,
   "metadata": {
    "colab": {
     "base_uri": "https://localhost:8080/",
     "height": 398
    },
    "executionInfo": {
     "elapsed": 11,
     "status": "ok",
     "timestamp": 1733302792649,
     "user": {
      "displayName": "akara",
      "userId": "03294495074658875410"
     },
     "user_tz": -120
    },
    "id": "vdF16yvYpBmO",
    "outputId": "f4c9dc70-fba6-4f8c-d377-5949089e1f90"
   },
   "outputs": [],
   "source": [
    "df_copy['JobRole'].value_counts()"
   ]
  },
  {
   "cell_type": "code",
   "execution_count": null,
   "metadata": {
    "id": "ik0aVOAMhNsH"
   },
   "outputs": [],
   "source": [
    "X_train, X_test, y_train, y_test = train_test_split(X, y, test_size=0.2, shuffle=True, random_state=42, stratify=y)"
   ]
  },
  {
   "cell_type": "code",
   "execution_count": null,
   "metadata": {
    "id": "gNL56stBjT85"
   },
   "outputs": [],
   "source": [
    "imputer = SimpleImputer(strategy=\"mean\")\n",
    "scaler = MinMaxScaler()\n",
    "onehot = OneHotEncoder()\n",
    "\n",
    "num_pipe = Pipeline(steps=[('miss', imputer), ('scale', scaler)])\n",
    "preprocessor = ColumnTransformer([('numeric', num_pipe, num_cols), ('categorical', onehot, cat_cols)])\n",
    "\n",
    "X_train = preprocessor.fit_transform(X_train)\n",
    "X_test = preprocessor.transform(X_test)"
   ]
  },
  {
   "cell_type": "code",
   "execution_count": null,
   "metadata": {
    "id": "zbRNHGJBjKZo"
   },
   "outputs": [],
   "source": [
    "# X_train_name = pd.DataFrame(X_train, columns=preprocessor.get_feature_names_out())\n",
    "# X_test_name = pd.DataFrame(X_test, columns=preprocessor.get_feature_names_out())"
   ]
  },
  {
   "cell_type": "code",
   "execution_count": null,
   "metadata": {
    "colab": {
     "base_uri": "https://localhost:8080/",
     "height": 80
    },
    "executionInfo": {
     "elapsed": 741,
     "status": "ok",
     "timestamp": 1733302793626,
     "user": {
      "displayName": "akara",
      "userId": "03294495074658875410"
     },
     "user_tz": -120
    },
    "id": "Xgoe7OYqteUU",
    "outputId": "269fa4e8-4747-4719-adeb-3544aecc9f78"
   },
   "outputs": [],
   "source": [
    "model = RandomForestClassifier(random_state=42, class_weight='balanced')\n",
    "model.fit(X_train, y_train)"
   ]
  },
  {
   "cell_type": "code",
   "execution_count": null,
   "metadata": {
    "id": "rlwnvuhduOXB"
   },
   "outputs": [],
   "source": [
    "y_pred = model.predict(X_test)"
   ]
  },
  {
   "cell_type": "code",
   "execution_count": null,
   "metadata": {
    "colab": {
     "base_uri": "https://localhost:8080/"
    },
    "executionInfo": {
     "elapsed": 11,
     "status": "ok",
     "timestamp": 1733302793627,
     "user": {
      "displayName": "akara",
      "userId": "03294495074658875410"
     },
     "user_tz": -120
    },
    "id": "8PBPAnh3uFHR",
    "outputId": "11785014-2cb1-4e0b-aa45-386907085529"
   },
   "outputs": [],
   "source": [
    "print(classification_report(y_test, y_pred))"
   ]
  },
  {
   "cell_type": "code",
   "execution_count": null,
   "metadata": {
    "colab": {
     "base_uri": "https://localhost:8080/",
     "height": 466
    },
    "executionInfo": {
     "elapsed": 318,
     "status": "ok",
     "timestamp": 1733302793936,
     "user": {
      "displayName": "akara",
      "userId": "03294495074658875410"
     },
     "user_tz": -120
    },
    "id": "-UC0UDiMufAM",
    "outputId": "5844d232-8eba-4fa8-e689-178e297d7b61"
   },
   "outputs": [],
   "source": [
    "ConfusionMatrixDisplay(confusion_matrix(y_test, y_pred)).plot()"
   ]
  },
  {
   "cell_type": "code",
   "execution_count": null,
   "metadata": {
    "colab": {
     "base_uri": "https://localhost:8080/"
    },
    "executionInfo": {
     "elapsed": 3030,
     "status": "ok",
     "timestamp": 1733302796961,
     "user": {
      "displayName": "akara",
      "userId": "03294495074658875410"
     },
     "user_tz": -120
    },
    "id": "DN3Dcn0qwS0A",
    "outputId": "eaefb76b-fcc4-40c8-96ee-9183533f366e"
   },
   "outputs": [],
   "source": [
    "preprocessor_cv = Pipeline(steps=[('pre', preprocessor), ('model', model)])\n",
    "cross_val_score(preprocessor_cv, X, y).mean()"
   ]
  },
  {
   "cell_type": "code",
   "execution_count": null,
   "metadata": {
    "id": "n-tyoLDn5Uyo"
   },
   "outputs": [],
   "source": [
    "import pickle\n",
    "\n",
    "pickle.dump(model, open(\"data\", \"wb\"))"
   ]
  }
 ],
 "metadata": {
  "colab": {
   "authorship_tag": "ABX9TyOr9/VRn5fZK1Rn5Wh/Qej1",
   "gpuType": "T4",
   "mount_file_id": "1rZXeyyWUFrFYxsEmNXCtGzOb29Ck0MI0",
   "provenance": []
  },
  "kernelspec": {
   "display_name": "Python 3",
   "name": "python3"
  },
  "language_info": {
   "name": "python"
  }
 },
 "nbformat": 4,
 "nbformat_minor": 0
}
